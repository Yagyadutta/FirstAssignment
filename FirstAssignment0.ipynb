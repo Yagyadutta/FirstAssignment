{
  "nbformat": 4,
  "nbformat_minor": 0,
  "metadata": {
    "colab": {
      "provenance": []
    },
    "kernelspec": {
      "name": "python3",
      "display_name": "Python 3"
    },
    "language_info": {
      "name": "python"
    }
  },
  "cells": [
    {
      "cell_type": "markdown",
      "source": [
        "1. Explain the key features of Python that make it a popular choice for programming.\n",
        "\n",
        "Ans- The key features  of Python that make it a popular choice for programming are:-\n",
        "1.  Easy to understand and write, making it a popular choice among developers\n",
        "and programmers.\n",
        "2.   It is compatible with various programming paradigms, such as procedural, object-oriented, and functional programming.\n",
        "3. It has a large and active community of developers\n",
        "4. An extensive standard library, and third-party packages for various domains.\n",
        "5. Verstality."
      ],
      "metadata": {
        "id": "1tRLptXKUxPi"
      }
    },
    {
      "cell_type": "markdown",
      "source": [
        "2. Describe the role of predefined keywords in Python and provide examples of how they are used in a program ?\n",
        "\n",
        "Ans- The role of predefined keywords in Python is keywords are predefined words that hold a special meaning and have specific purpose in python.\n",
        "\n",
        "key features of keywords are:\n",
        "1. Each keyword serves a specific role, and its meaning cannot be changed by the user.\n",
        "2. Python keywords are case-sensitive. For example, True is a keyword, but true is not.\n",
        "3. Keywords cannot be used as identifiers.\n",
        "\n",
        "Ex- They can be used in program as\n",
        "Logical and Boolean Operations->and, or, not, True, False: These are used to perform logical operations and handle boolean values.\n",
        "\n",
        "x = True\n",
        "y = False\n",
        "\n",
        "if x and not y:\n",
        "\n",
        "    print(\"x is True and y is False\")\n"
      ],
      "metadata": {
        "id": "aykSi2g_Va9j"
      }
    },
    {
      "cell_type": "code",
      "source": [
        "x = True\n",
        "y = False\n",
        "if x and not y:\n",
        "  print(\"x is True and y is False\")"
      ],
      "metadata": {
        "colab": {
          "base_uri": "https://localhost:8080/"
        },
        "id": "BHfJNWqXJC89",
        "outputId": "243c7f4a-5447-4a60-faf6-08065eb9621c"
      },
      "execution_count": 22,
      "outputs": [
        {
          "output_type": "stream",
          "name": "stdout",
          "text": [
            "x is True and y is False\n"
          ]
        }
      ]
    },
    {
      "cell_type": "markdown",
      "source": [
        "3-> Compare and contrast mutable and immutable objects in Python with examples?\n",
        "\n",
        "Ans- objects/container whose state or value can be changed after they are created are called as **mutable objects or container**,\n",
        "\n",
        "->list is a type of mutable object/supports item assignment\n",
        "\n",
        "Ex:- Creating a list (mutable)\n",
        "my_list = [1, 2, 3]\n",
        "print(\"Original List:\", my_list)\n",
        "\n",
        "Modifying the list\n",
        "my_list.append(4)\n",
        "print(\"Modified List:\", my_list)\n",
        "\n",
        "##Output:\n",
        "##Original List: [1, 2, 3]\n",
        "##Modified List: [1, 2, 3, 4]\n",
        "\n",
        "\n",
        "objects/container whose state or value can not be changed after they are created are called as **immutable objects or container**,\n",
        "->string is a type of immutable object/ doesn't supports item assignment\n",
        "\n",
        "Ex:-Creating a string (immutable)\n",
        "my_string = \"hello\"\n",
        "print(\"Original String:\", my_string)\n",
        "\n",
        " Attempt to modify the string (creates a new string)\n",
        "new_string = my_string + \" world\"\n",
        "print(\"New String:\", new_string)\n",
        "print(\"Original String (unchanged):\", my_string)\n",
        "\n",
        "##Output:\n",
        "##Original String: hello\n",
        "##New String: hello world\n",
        "##Original String (unchanged): hello\n",
        "\n",
        "\n"
      ],
      "metadata": {
        "id": "cqWVEwHHT2wY"
      }
    },
    {
      "cell_type": "markdown",
      "source": [
        "4->  Discuss the different types of operators in Python and provide examples of how they are used ?\n",
        "\n",
        "Ans-\n",
        "Python operators are special keywords/symbols that are used to perform operations on values or variable.\n",
        "The different types of operators in Python are as follows and how they are\n",
        " used discussed below:-\n",
        "\n",
        "1. Arithmetic operators\n",
        "*   Addition(+)\n",
        "*   Subtraction(-)\n",
        "*   Multiplication(*)\n",
        "*   Division(/)\n",
        "*   Modulus(%)\n",
        "*   Exponential(**)\n",
        "2. Comparison operators\n",
        "* Equal to(=)\n",
        "* Not equal to(!= or <>)\n",
        "* Greater than(>)\n",
        "* Less than(<)\n",
        "* Greater than or equal to(>=)\n",
        "* Less than or equal to(<=)\n",
        "3. logical operators\n",
        "* AND\n",
        "* OR\n",
        "* NOT(not)\n",
        "4. Bitwise operators\n",
        "* AND(&)\n",
        "* OR(|)\n",
        "* NOT(-)\n",
        "* XOR(^)\n",
        "* LEFT SHIFT(<<)\n",
        "* RIGHT SHIFT(>>)\n",
        "5. Assignment operators\n",
        "* Assignment(=)\n",
        "* Addition Assignment(+=)\n",
        "* Subtraction Assignment(-=)\n",
        "* Multiplication Assignment(*=)\n",
        "* Division Assignment(/=)\n",
        "6. Membership operators\n",
        "* in\n",
        "* not in\n",
        "7. Identity operators\n",
        "* is\n",
        "* is not\n"
      ],
      "metadata": {
        "id": "qmVP39z1pNRC"
      }
    },
    {
      "cell_type": "code",
      "source": [
        "# Arithmetic Operators\n",
        "a = 10\n",
        "b = 3\n",
        "\n",
        "print(a + b)\n",
        "print(a - b)\n",
        "print(a * b)\n",
        "print(a / b)\n",
        "print(a % b)\n",
        "print(a ** b)"
      ],
      "metadata": {
        "colab": {
          "base_uri": "https://localhost:8080/"
        },
        "id": "muFoJf1KuWCR",
        "outputId": "c90aad0d-d72e-48e9-a3ea-56d284ff8f74"
      },
      "execution_count": 2,
      "outputs": [
        {
          "output_type": "stream",
          "name": "stdout",
          "text": [
            "13\n",
            "7\n",
            "30\n",
            "3.3333333333333335\n",
            "1\n",
            "1000\n"
          ]
        }
      ]
    },
    {
      "cell_type": "code",
      "source": [
        "# Comparison Operators\n",
        "x = 5\n",
        "y = 3\n",
        "\n",
        "print(x == y)\n",
        "print(x != y)\n",
        "print(x > y)\n",
        "print(x < y)\n",
        "print(x >= 5)\n",
        "print(x <= y)\n"
      ],
      "metadata": {
        "colab": {
          "base_uri": "https://localhost:8080/"
        },
        "id": "aYxaAJsruYaS",
        "outputId": "415629d1-fc32-40b7-e68a-a78e79dc4b36"
      },
      "execution_count": 3,
      "outputs": [
        {
          "output_type": "stream",
          "name": "stdout",
          "text": [
            "False\n",
            "True\n",
            "True\n",
            "False\n",
            "True\n",
            "False\n"
          ]
        }
      ]
    },
    {
      "cell_type": "code",
      "source": [
        "# Logical Operators\n",
        "x = True\n",
        "y = False\n",
        "\n",
        "print(x and y)\n",
        "print(x or y)\n",
        "print(not x)\n"
      ],
      "metadata": {
        "colab": {
          "base_uri": "https://localhost:8080/"
        },
        "id": "oOJGoOntuwG0",
        "outputId": "a8c83c85-71d1-4793-c854-003edb11a16d"
      },
      "execution_count": 4,
      "outputs": [
        {
          "output_type": "stream",
          "name": "stdout",
          "text": [
            "False\n",
            "True\n",
            "False\n"
          ]
        }
      ]
    },
    {
      "cell_type": "code",
      "source": [
        "# Bitwise Operators\n",
        "a = 5\n",
        "b = 3\n",
        "\n",
        "print(a & b)\n",
        "print(a | b)\n",
        "print(a ^ b)\n",
        "print(~a)\n",
        "print(a << 1)\n",
        "print(a >> 1)\n"
      ],
      "metadata": {
        "colab": {
          "base_uri": "https://localhost:8080/"
        },
        "id": "p6owtguEu38k",
        "outputId": "c16917db-dd68-4c26-be81-dbfe88dc1e3c"
      },
      "execution_count": 5,
      "outputs": [
        {
          "output_type": "stream",
          "name": "stdout",
          "text": [
            "1\n",
            "7\n",
            "6\n",
            "-6\n",
            "10\n",
            "2\n"
          ]
        }
      ]
    },
    {
      "cell_type": "code",
      "source": [
        "# Assignment Operators\n",
        "x = 5\n",
        "x += 3\n",
        "print(x)\n",
        "\n",
        "x *= 2\n",
        "print(x)\n"
      ],
      "metadata": {
        "colab": {
          "base_uri": "https://localhost:8080/"
        },
        "id": "PUL25q3TvKD_",
        "outputId": "63bc7b78-1eb4-4b30-a0fc-d189c4b27ce3"
      },
      "execution_count": 6,
      "outputs": [
        {
          "output_type": "stream",
          "name": "stdout",
          "text": [
            "8\n",
            "16\n"
          ]
        }
      ]
    },
    {
      "cell_type": "code",
      "source": [
        "# Membership Operators\n",
        "my_list = [1, 2, 3, 4]\n",
        "\n",
        "print(3 in my_list)\n",
        "print(5 not in my_list)\n"
      ],
      "metadata": {
        "colab": {
          "base_uri": "https://localhost:8080/"
        },
        "id": "3SXdHad8v-77",
        "outputId": "66589309-659f-4432-cd68-4bc18dbe1fbc"
      },
      "execution_count": 7,
      "outputs": [
        {
          "output_type": "stream",
          "name": "stdout",
          "text": [
            "True\n",
            "True\n"
          ]
        }
      ]
    },
    {
      "cell_type": "code",
      "source": [
        "# Identity Operators\n",
        "x = [1, 2, 3]\n",
        "y = [1, 2, 3]\n",
        "z = x\n",
        "\n",
        "print(x is z)\n",
        "print(x is y)\n",
        "print(x is not y)\n"
      ],
      "metadata": {
        "colab": {
          "base_uri": "https://localhost:8080/"
        },
        "id": "VL1-GwIowDJO",
        "outputId": "c7e0d2a0-26fa-42d2-bc86-967ab0cfd0de"
      },
      "execution_count": 8,
      "outputs": [
        {
          "output_type": "stream",
          "name": "stdout",
          "text": [
            "True\n",
            "False\n",
            "True\n"
          ]
        }
      ]
    },
    {
      "cell_type": "markdown",
      "source": [
        "5. Explain the concept of type casting in Python with examples?\n",
        "\n",
        "Ans- **Implicit Type Casting**: Python automatically converts one type to another without user intervention.\n",
        "\n",
        "**Explicit Type Casting**: The programmer explicitly converts types using Python's built-in functions like int(), float(), str(),bool() etc."
      ],
      "metadata": {
        "id": "JmQJ8rEZwRc4"
      }
    },
    {
      "cell_type": "code",
      "source": [
        "\n",
        "# Explicitly converting float to int\n",
        "a = 5.8\n",
        "b = int(a)\n",
        "print(b)\n",
        "print(type(b))\n"
      ],
      "metadata": {
        "colab": {
          "base_uri": "https://localhost:8080/"
        },
        "id": "pBJAKrcV5B4o",
        "outputId": "c48a066e-c750-4ac3-cc41-565c081ea7ff"
      },
      "execution_count": 9,
      "outputs": [
        {
          "output_type": "stream",
          "name": "stdout",
          "text": [
            "5\n",
            "<class 'int'>\n"
          ]
        }
      ]
    },
    {
      "cell_type": "code",
      "source": [
        "# Implicit type casting from int to float\n",
        "a = 10  # int\n",
        "b = 3.0  # float\n",
        "\n",
        "result = a + b\n",
        "print(result)\n",
        "print(type(result))\n",
        "\n"
      ],
      "metadata": {
        "colab": {
          "base_uri": "https://localhost:8080/"
        },
        "id": "b7G9usuq5Jc6",
        "outputId": "f7cf6a6f-9122-4769-f463-6b39910947b2"
      },
      "execution_count": 23,
      "outputs": [
        {
          "output_type": "stream",
          "name": "stdout",
          "text": [
            "13.0\n",
            "<class 'float'>\n"
          ]
        }
      ]
    },
    {
      "cell_type": "markdown",
      "source": [
        "6.  How do conditional statements work in Python? Illustrate with examples?\n",
        "\n",
        "Ans- Conditional statements it helps you to code decisions based on some preconditions\n",
        "\n",
        "The most common conditional statements in Python are:\n",
        "\n",
        "* if statement\n",
        "\n",
        "The `if` statement checks a condition. If the condition is `True`, the code block under it is executed; if `False`, the block is skipped.\n",
        "###syntax\n",
        "if condition True:\n",
        "\n",
        "       block of code will be executed\n",
        "* if-else statement\n",
        "\n",
        "The if-else statement provides an alternative block of code to execute if the condition is False.\n",
        "\n",
        "\n",
        "* if-elif-else statement\n",
        "\n",
        "The if-elif-else statement allows you to check multiple conditions in sequence. If the first condition is False, the program checks the next elif condition, and so on. If none of the conditions are True, the else block is executed.\n",
        "\n",
        "* nested if else\n",
        "\n",
        "we can have multiple if else inside if else then its a cond. of nested if else.\n"
      ],
      "metadata": {
        "id": "PTIfmtLn599e"
      }
    },
    {
      "cell_type": "code",
      "source": [
        "a = 100\n",
        "if a > 0: #execute the if block/body of it, if the condition is True\n",
        "    print(\"The number is greater than 0.\")"
      ],
      "metadata": {
        "colab": {
          "base_uri": "https://localhost:8080/"
        },
        "id": "-ZaYbLtk8EQT",
        "outputId": "e9c15e7b-2795-4df2-c326-421e62501ab7"
      },
      "execution_count": 14,
      "outputs": [
        {
          "output_type": "stream",
          "name": "stdout",
          "text": [
            "The number is greater than 0.\n"
          ]
        }
      ]
    },
    {
      "cell_type": "code",
      "source": [
        "score = 30\n",
        "if score >= 33:\n",
        "    print(\"You are passed\")\n",
        "else:\n",
        "    print(\"repeat the class\")"
      ],
      "metadata": {
        "colab": {
          "base_uri": "https://localhost:8080/"
        },
        "id": "SjkjYlQH8ooq",
        "outputId": "212a300b-2cf9-44c8-e246-4af7057f0f5f"
      },
      "execution_count": 15,
      "outputs": [
        {
          "output_type": "stream",
          "name": "stdout",
          "text": [
            "repeat the class\n"
          ]
        }
      ]
    },
    {
      "cell_type": "code",
      "source": [
        "a = 100\n",
        "if a > 100:\n",
        "    print(\"This block will be executed if a is greater than 100\")\n",
        "elif a < 100:\n",
        "    print(\"This block will be executed if a is lesser than 100\")\n",
        "else:\n",
        "    print(\"The number is equals to 100\")"
      ],
      "metadata": {
        "colab": {
          "base_uri": "https://localhost:8080/"
        },
        "id": "hn7x1NVS-HDw",
        "outputId": "4337f69e-5c2a-46f5-9278-9581fcebfa2a"
      },
      "execution_count": 16,
      "outputs": [
        {
          "output_type": "stream",
          "name": "stdout",
          "text": [
            "The number is equals to 100\n"
          ]
        }
      ]
    },
    {
      "cell_type": "code",
      "source": [
        "x = 7\n",
        "y = 6\n",
        "if x > 5:\n",
        "    if y>5:\n",
        "        print(\"Both x and y is greater than 5\")\n",
        "    else:\n",
        "        print(\"x is greater than 5 but y is less than 5\")\n",
        "else:\n",
        "    print(\"x is not greater than 5\")"
      ],
      "metadata": {
        "colab": {
          "base_uri": "https://localhost:8080/"
        },
        "id": "4Li-FPWX-NI8",
        "outputId": "c1e14829-7077-4cc9-f63e-1165c90485d2"
      },
      "execution_count": 17,
      "outputs": [
        {
          "output_type": "stream",
          "name": "stdout",
          "text": [
            "Both x and y is greater than 5\n"
          ]
        }
      ]
    },
    {
      "cell_type": "markdown",
      "source": [
        "7. Describe the different types of loops in Python and their use cases with examples.\n",
        "\n",
        "Ans-  Loop statement >> It allows you to execute a block of code repeatedly\n",
        "###loops >> while loop and for loops\n",
        "\n",
        "1. while loop: Repeatedly executed a block of code untill a condition is met.\n",
        "\n",
        "Use Case: Best used when the number of iterations is not known beforehand and depends on some condition.\n",
        "\n",
        "Syntax:\n",
        "\n",
        "while (condition):\n",
        "\n",
        "    block of code\n",
        "-> while is a key word used for a while loop\n"
      ],
      "metadata": {
        "id": "0q-zzN2y_Gh9"
      }
    },
    {
      "cell_type": "code",
      "source": [
        "#Ex:-\n",
        "n = 7\n",
        "i = 1\n",
        "while i < n:\n",
        "    print(i)\n",
        "    i = i+1"
      ],
      "metadata": {
        "colab": {
          "base_uri": "https://localhost:8080/"
        },
        "id": "nuC3iWYLGefS",
        "outputId": "c4760f48-f252-40e3-ae43-e090875a7cad"
      },
      "execution_count": 18,
      "outputs": [
        {
          "output_type": "stream",
          "name": "stdout",
          "text": [
            "1\n",
            "2\n",
            "3\n",
            "4\n",
            "5\n",
            "6\n"
          ]
        }
      ]
    },
    {
      "cell_type": "markdown",
      "source": [
        "2. For loop:\n",
        "It iterate over a sequence of elements like strings, list etc.\n",
        "\n",
        "Use Case: Best used when you know the number of iterations or need to loop through an iterable object.\n",
        "\n",
        "Syntax:\n",
        "    \n",
        "    For i in range(start,end,interval):\n",
        "                   block of code"
      ],
      "metadata": {
        "id": "up1H-g9aGn_L"
      }
    },
    {
      "cell_type": "code",
      "source": [
        "#Ex:-\n",
        "for i in range(10):\n",
        "    print(i, end=\" \")"
      ],
      "metadata": {
        "colab": {
          "base_uri": "https://localhost:8080/"
        },
        "id": "3Vmc6Zr_IJBg",
        "outputId": "c2ba484c-df71-4f8f-fb7a-bbfd3a5be2ce"
      },
      "execution_count": 19,
      "outputs": [
        {
          "output_type": "stream",
          "name": "stdout",
          "text": [
            "0 1 2 3 4 5 6 7 8 9 "
          ]
        }
      ]
    }
  ]
}